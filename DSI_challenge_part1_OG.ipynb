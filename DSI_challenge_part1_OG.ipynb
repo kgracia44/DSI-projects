{
 "cells": [
  {
   "cell_type": "markdown",
   "metadata": {},
   "source": [
    "# Part 1"
   ]
  },
  {
   "cell_type": "markdown",
   "metadata": {},
   "source": [
    "#### Load Data and Review"
   ]
  },
  {
   "cell_type": "code",
   "execution_count": 260,
   "metadata": {
    "collapsed": false
   },
   "outputs": [],
   "source": [
    "# Loading necessary libraries\n",
    "\n",
    "import pandas as pd\n",
    "import numpy as np\n",
    "import seaborn as sns\n",
    "import matplotlib.pyplot as plt\n",
    "from scipy.stats import ttest_ind\n",
    "from scipy.special import stdtr\n",
    "from sklearn import linear_model\n",
    "from sklearn.cross_validation import train_test_split\n",
    "import statsmodels.api as sm\n",
    "\n",
    "%matplotlib inline"
   ]
  },
  {
   "cell_type": "code",
   "execution_count": 76,
   "metadata": {
    "collapsed": false
   },
   "outputs": [],
   "source": [
    "# Load in the data file and header file provided\n",
    "\n",
    "raw_data = pd.read_csv('/Users/cguy/Downloads/breast-cancer.csv', header=None)\n",
    "header = np.loadtxt('/Users/cguy/Downloads/field_names.txt', dtype='string')\n",
    "\n",
    "# The dataframe does not currently have a header, load in the header file and attach it to the dataframe\n",
    "\n",
    "raw_data.columns = header"
   ]
  },
  {
   "cell_type": "code",
   "execution_count": 77,
   "metadata": {
    "collapsed": false
   },
   "outputs": [
    {
     "data": {
      "text/html": [
       "<div>\n",
       "<table border=\"1\" class=\"dataframe\">\n",
       "  <thead>\n",
       "    <tr style=\"text-align: right;\">\n",
       "      <th></th>\n",
       "      <th>ID</th>\n",
       "      <th>diagnosis</th>\n",
       "      <th>radius_mean</th>\n",
       "      <th>radius_sd_error</th>\n",
       "      <th>radius_worst</th>\n",
       "      <th>texture_mean</th>\n",
       "      <th>texture_sd_error</th>\n",
       "      <th>texture_worst</th>\n",
       "      <th>perimeter_mean</th>\n",
       "      <th>perimeter_sd_error</th>\n",
       "      <th>...</th>\n",
       "      <th>concavity_worst</th>\n",
       "      <th>concave_points_mean</th>\n",
       "      <th>concave_points_sd_error</th>\n",
       "      <th>concave_points_worst</th>\n",
       "      <th>symmetry_mean</th>\n",
       "      <th>symmetry_sd_error</th>\n",
       "      <th>symmetry_worst</th>\n",
       "      <th>fractal_dimension_mean</th>\n",
       "      <th>fractal_dimension_sd_error</th>\n",
       "      <th>fractal_dimension_worst</th>\n",
       "    </tr>\n",
       "  </thead>\n",
       "  <tbody>\n",
       "    <tr>\n",
       "      <th>0</th>\n",
       "      <td>842302</td>\n",
       "      <td>M</td>\n",
       "      <td>17.99</td>\n",
       "      <td>10.38</td>\n",
       "      <td>122.80</td>\n",
       "      <td>1001.0</td>\n",
       "      <td>0.11840</td>\n",
       "      <td>0.27760</td>\n",
       "      <td>0.3001</td>\n",
       "      <td>0.14710</td>\n",
       "      <td>...</td>\n",
       "      <td>25.38</td>\n",
       "      <td>17.33</td>\n",
       "      <td>184.60</td>\n",
       "      <td>2019.0</td>\n",
       "      <td>0.1622</td>\n",
       "      <td>0.6656</td>\n",
       "      <td>0.7119</td>\n",
       "      <td>0.2654</td>\n",
       "      <td>0.4601</td>\n",
       "      <td>0.11890</td>\n",
       "    </tr>\n",
       "    <tr>\n",
       "      <th>1</th>\n",
       "      <td>842517</td>\n",
       "      <td>M</td>\n",
       "      <td>20.57</td>\n",
       "      <td>17.77</td>\n",
       "      <td>132.90</td>\n",
       "      <td>1326.0</td>\n",
       "      <td>0.08474</td>\n",
       "      <td>0.07864</td>\n",
       "      <td>0.0869</td>\n",
       "      <td>0.07017</td>\n",
       "      <td>...</td>\n",
       "      <td>24.99</td>\n",
       "      <td>23.41</td>\n",
       "      <td>158.80</td>\n",
       "      <td>1956.0</td>\n",
       "      <td>0.1238</td>\n",
       "      <td>0.1866</td>\n",
       "      <td>0.2416</td>\n",
       "      <td>0.1860</td>\n",
       "      <td>0.2750</td>\n",
       "      <td>0.08902</td>\n",
       "    </tr>\n",
       "    <tr>\n",
       "      <th>2</th>\n",
       "      <td>84300903</td>\n",
       "      <td>M</td>\n",
       "      <td>19.69</td>\n",
       "      <td>21.25</td>\n",
       "      <td>130.00</td>\n",
       "      <td>1203.0</td>\n",
       "      <td>0.10960</td>\n",
       "      <td>0.15990</td>\n",
       "      <td>0.1974</td>\n",
       "      <td>0.12790</td>\n",
       "      <td>...</td>\n",
       "      <td>23.57</td>\n",
       "      <td>25.53</td>\n",
       "      <td>152.50</td>\n",
       "      <td>1709.0</td>\n",
       "      <td>0.1444</td>\n",
       "      <td>0.4245</td>\n",
       "      <td>0.4504</td>\n",
       "      <td>0.2430</td>\n",
       "      <td>0.3613</td>\n",
       "      <td>0.08758</td>\n",
       "    </tr>\n",
       "    <tr>\n",
       "      <th>3</th>\n",
       "      <td>84348301</td>\n",
       "      <td>M</td>\n",
       "      <td>11.42</td>\n",
       "      <td>20.38</td>\n",
       "      <td>77.58</td>\n",
       "      <td>386.1</td>\n",
       "      <td>0.14250</td>\n",
       "      <td>0.28390</td>\n",
       "      <td>0.2414</td>\n",
       "      <td>0.10520</td>\n",
       "      <td>...</td>\n",
       "      <td>14.91</td>\n",
       "      <td>26.50</td>\n",
       "      <td>98.87</td>\n",
       "      <td>567.7</td>\n",
       "      <td>0.2098</td>\n",
       "      <td>0.8663</td>\n",
       "      <td>0.6869</td>\n",
       "      <td>0.2575</td>\n",
       "      <td>0.6638</td>\n",
       "      <td>0.17300</td>\n",
       "    </tr>\n",
       "    <tr>\n",
       "      <th>4</th>\n",
       "      <td>84358402</td>\n",
       "      <td>M</td>\n",
       "      <td>20.29</td>\n",
       "      <td>14.34</td>\n",
       "      <td>135.10</td>\n",
       "      <td>1297.0</td>\n",
       "      <td>0.10030</td>\n",
       "      <td>0.13280</td>\n",
       "      <td>0.1980</td>\n",
       "      <td>0.10430</td>\n",
       "      <td>...</td>\n",
       "      <td>22.54</td>\n",
       "      <td>16.67</td>\n",
       "      <td>152.20</td>\n",
       "      <td>1575.0</td>\n",
       "      <td>0.1374</td>\n",
       "      <td>0.2050</td>\n",
       "      <td>0.4000</td>\n",
       "      <td>0.1625</td>\n",
       "      <td>0.2364</td>\n",
       "      <td>0.07678</td>\n",
       "    </tr>\n",
       "  </tbody>\n",
       "</table>\n",
       "<p>5 rows × 32 columns</p>\n",
       "</div>"
      ],
      "text/plain": [
       "         ID diagnosis  radius_mean  radius_sd_error  radius_worst  \\\n",
       "0    842302         M        17.99            10.38        122.80   \n",
       "1    842517         M        20.57            17.77        132.90   \n",
       "2  84300903         M        19.69            21.25        130.00   \n",
       "3  84348301         M        11.42            20.38         77.58   \n",
       "4  84358402         M        20.29            14.34        135.10   \n",
       "\n",
       "   texture_mean  texture_sd_error  texture_worst  perimeter_mean  \\\n",
       "0        1001.0           0.11840        0.27760          0.3001   \n",
       "1        1326.0           0.08474        0.07864          0.0869   \n",
       "2        1203.0           0.10960        0.15990          0.1974   \n",
       "3         386.1           0.14250        0.28390          0.2414   \n",
       "4        1297.0           0.10030        0.13280          0.1980   \n",
       "\n",
       "   perimeter_sd_error           ...             concavity_worst  \\\n",
       "0             0.14710           ...                       25.38   \n",
       "1             0.07017           ...                       24.99   \n",
       "2             0.12790           ...                       23.57   \n",
       "3             0.10520           ...                       14.91   \n",
       "4             0.10430           ...                       22.54   \n",
       "\n",
       "   concave_points_mean  concave_points_sd_error  concave_points_worst  \\\n",
       "0                17.33                   184.60                2019.0   \n",
       "1                23.41                   158.80                1956.0   \n",
       "2                25.53                   152.50                1709.0   \n",
       "3                26.50                    98.87                 567.7   \n",
       "4                16.67                   152.20                1575.0   \n",
       "\n",
       "   symmetry_mean  symmetry_sd_error  symmetry_worst  fractal_dimension_mean  \\\n",
       "0         0.1622             0.6656          0.7119                  0.2654   \n",
       "1         0.1238             0.1866          0.2416                  0.1860   \n",
       "2         0.1444             0.4245          0.4504                  0.2430   \n",
       "3         0.2098             0.8663          0.6869                  0.2575   \n",
       "4         0.1374             0.2050          0.4000                  0.1625   \n",
       "\n",
       "   fractal_dimension_sd_error  fractal_dimension_worst  \n",
       "0                      0.4601                  0.11890  \n",
       "1                      0.2750                  0.08902  \n",
       "2                      0.3613                  0.08758  \n",
       "3                      0.6638                  0.17300  \n",
       "4                      0.2364                  0.07678  \n",
       "\n",
       "[5 rows x 32 columns]"
      ]
     },
     "execution_count": 77,
     "metadata": {},
     "output_type": "execute_result"
    }
   ],
   "source": [
    "raw_data.head()"
   ]
  },
  {
   "cell_type": "code",
   "execution_count": 78,
   "metadata": {
    "collapsed": false
   },
   "outputs": [
    {
     "data": {
      "text/plain": [
       "array(['ID', 'diagnosis', 'radius_mean', 'radius_sd_error', 'radius_worst',\n",
       "       'texture_mean', 'texture_sd_error', 'texture_worst',\n",
       "       'perimeter_mean', 'perimeter_sd_error', 'perimeter_worst',\n",
       "       'area_mean', 'area_sd_error', 'area_worst', 'smoothness_mean',\n",
       "       'smoothness_sd_error', 'smoothness_worst', 'compactness_mean',\n",
       "       'compactness_sd_error', 'compactness_worst', 'concavity_mean',\n",
       "       'concavity_sd_error', 'concavity_worst', 'concave_points_mean',\n",
       "       'concave_points_sd_error', 'concave_points_worst', 'symmetry_mean',\n",
       "       'symmetry_sd_error', 'symmetry_worst', 'fractal_dimension_mean',\n",
       "       'fractal_dimension_sd_error', 'fractal_dimension_worst'], \n",
       "      dtype='|S26')"
      ]
     },
     "execution_count": 78,
     "metadata": {},
     "output_type": "execute_result"
    }
   ],
   "source": [
    "header"
   ]
  },
  {
   "cell_type": "markdown",
   "metadata": {},
   "source": [
    "##### Comment on any steps you might take to evaluate or transform the dataset.\n",
    "\n",
    "1) Use .describe and .info on dataset to get decriptive statistics, number of rows, number of NaNs, dtypes, etc.\n",
    "\n",
    "2) Visualize the data"
   ]
  },
  {
   "cell_type": "code",
   "execution_count": 79,
   "metadata": {
    "collapsed": false
   },
   "outputs": [
    {
     "name": "stdout",
     "output_type": "stream",
     "text": [
      "<class 'pandas.core.frame.DataFrame'>\n",
      "RangeIndex: 569 entries, 0 to 568\n",
      "Data columns (total 32 columns):\n",
      "ID                            569 non-null int64\n",
      "diagnosis                     569 non-null object\n",
      "radius_mean                   569 non-null float64\n",
      "radius_sd_error               569 non-null float64\n",
      "radius_worst                  569 non-null float64\n",
      "texture_mean                  569 non-null float64\n",
      "texture_sd_error              569 non-null float64\n",
      "texture_worst                 569 non-null float64\n",
      "perimeter_mean                569 non-null float64\n",
      "perimeter_sd_error            569 non-null float64\n",
      "perimeter_worst               569 non-null float64\n",
      "area_mean                     569 non-null float64\n",
      "area_sd_error                 569 non-null float64\n",
      "area_worst                    569 non-null float64\n",
      "smoothness_mean               569 non-null float64\n",
      "smoothness_sd_error           569 non-null float64\n",
      "smoothness_worst              569 non-null float64\n",
      "compactness_mean              569 non-null float64\n",
      "compactness_sd_error          569 non-null float64\n",
      "compactness_worst             569 non-null float64\n",
      "concavity_mean                569 non-null float64\n",
      "concavity_sd_error            569 non-null float64\n",
      "concavity_worst               569 non-null float64\n",
      "concave_points_mean           569 non-null float64\n",
      "concave_points_sd_error       569 non-null float64\n",
      "concave_points_worst          569 non-null float64\n",
      "symmetry_mean                 569 non-null float64\n",
      "symmetry_sd_error             569 non-null float64\n",
      "symmetry_worst                569 non-null float64\n",
      "fractal_dimension_mean        569 non-null float64\n",
      "fractal_dimension_sd_error    569 non-null float64\n",
      "fractal_dimension_worst       569 non-null float64\n",
      "dtypes: float64(30), int64(1), object(1)\n",
      "memory usage: 142.3+ KB\n"
     ]
    }
   ],
   "source": [
    "raw_data.info()"
   ]
  },
  {
   "cell_type": "code",
   "execution_count": 114,
   "metadata": {
    "collapsed": false
   },
   "outputs": [
    {
     "data": {
      "text/plain": [
       "False"
      ]
     },
     "execution_count": 114,
     "metadata": {},
     "output_type": "execute_result"
    }
   ],
   "source": [
    "raw_data.isnull().values.any()"
   ]
  },
  {
   "cell_type": "code",
   "execution_count": 91,
   "metadata": {
    "collapsed": false
   },
   "outputs": [
    {
     "data": {
      "text/html": [
       "<div>\n",
       "<table border=\"1\" class=\"dataframe\">\n",
       "  <thead>\n",
       "    <tr style=\"text-align: right;\">\n",
       "      <th></th>\n",
       "      <th>ID</th>\n",
       "      <th>diagnosis</th>\n",
       "      <th>radius_mean</th>\n",
       "      <th>radius_sd_error</th>\n",
       "      <th>radius_worst</th>\n",
       "      <th>texture_mean</th>\n",
       "      <th>texture_sd_error</th>\n",
       "      <th>texture_worst</th>\n",
       "      <th>perimeter_mean</th>\n",
       "      <th>perimeter_sd_error</th>\n",
       "      <th>...</th>\n",
       "      <th>concavity_worst</th>\n",
       "      <th>concave_points_mean</th>\n",
       "      <th>concave_points_sd_error</th>\n",
       "      <th>concave_points_worst</th>\n",
       "      <th>symmetry_mean</th>\n",
       "      <th>symmetry_sd_error</th>\n",
       "      <th>symmetry_worst</th>\n",
       "      <th>fractal_dimension_mean</th>\n",
       "      <th>fractal_dimension_sd_error</th>\n",
       "      <th>fractal_dimension_worst</th>\n",
       "    </tr>\n",
       "  </thead>\n",
       "  <tbody>\n",
       "    <tr>\n",
       "      <th>count</th>\n",
       "      <td>5.690000e+02</td>\n",
       "      <td>569</td>\n",
       "      <td>569.000000</td>\n",
       "      <td>569.000000</td>\n",
       "      <td>569.000000</td>\n",
       "      <td>569.000000</td>\n",
       "      <td>569.000000</td>\n",
       "      <td>569.000000</td>\n",
       "      <td>569.000000</td>\n",
       "      <td>569.000000</td>\n",
       "      <td>...</td>\n",
       "      <td>569.000000</td>\n",
       "      <td>569.000000</td>\n",
       "      <td>569.000000</td>\n",
       "      <td>569.000000</td>\n",
       "      <td>569.000000</td>\n",
       "      <td>569.000000</td>\n",
       "      <td>569.000000</td>\n",
       "      <td>569.000000</td>\n",
       "      <td>569.000000</td>\n",
       "      <td>569.000000</td>\n",
       "    </tr>\n",
       "    <tr>\n",
       "      <th>unique</th>\n",
       "      <td>NaN</td>\n",
       "      <td>2</td>\n",
       "      <td>NaN</td>\n",
       "      <td>NaN</td>\n",
       "      <td>NaN</td>\n",
       "      <td>NaN</td>\n",
       "      <td>NaN</td>\n",
       "      <td>NaN</td>\n",
       "      <td>NaN</td>\n",
       "      <td>NaN</td>\n",
       "      <td>...</td>\n",
       "      <td>NaN</td>\n",
       "      <td>NaN</td>\n",
       "      <td>NaN</td>\n",
       "      <td>NaN</td>\n",
       "      <td>NaN</td>\n",
       "      <td>NaN</td>\n",
       "      <td>NaN</td>\n",
       "      <td>NaN</td>\n",
       "      <td>NaN</td>\n",
       "      <td>NaN</td>\n",
       "    </tr>\n",
       "    <tr>\n",
       "      <th>top</th>\n",
       "      <td>NaN</td>\n",
       "      <td>B</td>\n",
       "      <td>NaN</td>\n",
       "      <td>NaN</td>\n",
       "      <td>NaN</td>\n",
       "      <td>NaN</td>\n",
       "      <td>NaN</td>\n",
       "      <td>NaN</td>\n",
       "      <td>NaN</td>\n",
       "      <td>NaN</td>\n",
       "      <td>...</td>\n",
       "      <td>NaN</td>\n",
       "      <td>NaN</td>\n",
       "      <td>NaN</td>\n",
       "      <td>NaN</td>\n",
       "      <td>NaN</td>\n",
       "      <td>NaN</td>\n",
       "      <td>NaN</td>\n",
       "      <td>NaN</td>\n",
       "      <td>NaN</td>\n",
       "      <td>NaN</td>\n",
       "    </tr>\n",
       "    <tr>\n",
       "      <th>freq</th>\n",
       "      <td>NaN</td>\n",
       "      <td>357</td>\n",
       "      <td>NaN</td>\n",
       "      <td>NaN</td>\n",
       "      <td>NaN</td>\n",
       "      <td>NaN</td>\n",
       "      <td>NaN</td>\n",
       "      <td>NaN</td>\n",
       "      <td>NaN</td>\n",
       "      <td>NaN</td>\n",
       "      <td>...</td>\n",
       "      <td>NaN</td>\n",
       "      <td>NaN</td>\n",
       "      <td>NaN</td>\n",
       "      <td>NaN</td>\n",
       "      <td>NaN</td>\n",
       "      <td>NaN</td>\n",
       "      <td>NaN</td>\n",
       "      <td>NaN</td>\n",
       "      <td>NaN</td>\n",
       "      <td>NaN</td>\n",
       "    </tr>\n",
       "    <tr>\n",
       "      <th>mean</th>\n",
       "      <td>3.037183e+07</td>\n",
       "      <td>NaN</td>\n",
       "      <td>14.127292</td>\n",
       "      <td>19.289649</td>\n",
       "      <td>91.969033</td>\n",
       "      <td>654.889104</td>\n",
       "      <td>0.096360</td>\n",
       "      <td>0.104341</td>\n",
       "      <td>0.088799</td>\n",
       "      <td>0.048919</td>\n",
       "      <td>...</td>\n",
       "      <td>16.269190</td>\n",
       "      <td>25.677223</td>\n",
       "      <td>107.261213</td>\n",
       "      <td>880.583128</td>\n",
       "      <td>0.132369</td>\n",
       "      <td>0.254265</td>\n",
       "      <td>0.272188</td>\n",
       "      <td>0.114606</td>\n",
       "      <td>0.290076</td>\n",
       "      <td>0.083946</td>\n",
       "    </tr>\n",
       "    <tr>\n",
       "      <th>std</th>\n",
       "      <td>1.250206e+08</td>\n",
       "      <td>NaN</td>\n",
       "      <td>3.524049</td>\n",
       "      <td>4.301036</td>\n",
       "      <td>24.298981</td>\n",
       "      <td>351.914129</td>\n",
       "      <td>0.014064</td>\n",
       "      <td>0.052813</td>\n",
       "      <td>0.079720</td>\n",
       "      <td>0.038803</td>\n",
       "      <td>...</td>\n",
       "      <td>4.833242</td>\n",
       "      <td>6.146258</td>\n",
       "      <td>33.602542</td>\n",
       "      <td>569.356993</td>\n",
       "      <td>0.022832</td>\n",
       "      <td>0.157336</td>\n",
       "      <td>0.208624</td>\n",
       "      <td>0.065732</td>\n",
       "      <td>0.061867</td>\n",
       "      <td>0.018061</td>\n",
       "    </tr>\n",
       "    <tr>\n",
       "      <th>min</th>\n",
       "      <td>8.670000e+03</td>\n",
       "      <td>NaN</td>\n",
       "      <td>6.981000</td>\n",
       "      <td>9.710000</td>\n",
       "      <td>43.790000</td>\n",
       "      <td>143.500000</td>\n",
       "      <td>0.052630</td>\n",
       "      <td>0.019380</td>\n",
       "      <td>0.000000</td>\n",
       "      <td>0.000000</td>\n",
       "      <td>...</td>\n",
       "      <td>7.930000</td>\n",
       "      <td>12.020000</td>\n",
       "      <td>50.410000</td>\n",
       "      <td>185.200000</td>\n",
       "      <td>0.071170</td>\n",
       "      <td>0.027290</td>\n",
       "      <td>0.000000</td>\n",
       "      <td>0.000000</td>\n",
       "      <td>0.156500</td>\n",
       "      <td>0.055040</td>\n",
       "    </tr>\n",
       "    <tr>\n",
       "      <th>25%</th>\n",
       "      <td>8.692180e+05</td>\n",
       "      <td>NaN</td>\n",
       "      <td>11.700000</td>\n",
       "      <td>16.170000</td>\n",
       "      <td>75.170000</td>\n",
       "      <td>420.300000</td>\n",
       "      <td>0.086370</td>\n",
       "      <td>0.064920</td>\n",
       "      <td>0.029560</td>\n",
       "      <td>0.020310</td>\n",
       "      <td>...</td>\n",
       "      <td>13.010000</td>\n",
       "      <td>21.080000</td>\n",
       "      <td>84.110000</td>\n",
       "      <td>515.300000</td>\n",
       "      <td>0.116600</td>\n",
       "      <td>0.147200</td>\n",
       "      <td>0.114500</td>\n",
       "      <td>0.064930</td>\n",
       "      <td>0.250400</td>\n",
       "      <td>0.071460</td>\n",
       "    </tr>\n",
       "    <tr>\n",
       "      <th>50%</th>\n",
       "      <td>9.060240e+05</td>\n",
       "      <td>NaN</td>\n",
       "      <td>13.370000</td>\n",
       "      <td>18.840000</td>\n",
       "      <td>86.240000</td>\n",
       "      <td>551.100000</td>\n",
       "      <td>0.095870</td>\n",
       "      <td>0.092630</td>\n",
       "      <td>0.061540</td>\n",
       "      <td>0.033500</td>\n",
       "      <td>...</td>\n",
       "      <td>14.970000</td>\n",
       "      <td>25.410000</td>\n",
       "      <td>97.660000</td>\n",
       "      <td>686.500000</td>\n",
       "      <td>0.131300</td>\n",
       "      <td>0.211900</td>\n",
       "      <td>0.226700</td>\n",
       "      <td>0.099930</td>\n",
       "      <td>0.282200</td>\n",
       "      <td>0.080040</td>\n",
       "    </tr>\n",
       "    <tr>\n",
       "      <th>75%</th>\n",
       "      <td>8.813129e+06</td>\n",
       "      <td>NaN</td>\n",
       "      <td>15.780000</td>\n",
       "      <td>21.800000</td>\n",
       "      <td>104.100000</td>\n",
       "      <td>782.700000</td>\n",
       "      <td>0.105300</td>\n",
       "      <td>0.130400</td>\n",
       "      <td>0.130700</td>\n",
       "      <td>0.074000</td>\n",
       "      <td>...</td>\n",
       "      <td>18.790000</td>\n",
       "      <td>29.720000</td>\n",
       "      <td>125.400000</td>\n",
       "      <td>1084.000000</td>\n",
       "      <td>0.146000</td>\n",
       "      <td>0.339100</td>\n",
       "      <td>0.382900</td>\n",
       "      <td>0.161400</td>\n",
       "      <td>0.317900</td>\n",
       "      <td>0.092080</td>\n",
       "    </tr>\n",
       "    <tr>\n",
       "      <th>max</th>\n",
       "      <td>9.113205e+08</td>\n",
       "      <td>NaN</td>\n",
       "      <td>28.110000</td>\n",
       "      <td>39.280000</td>\n",
       "      <td>188.500000</td>\n",
       "      <td>2501.000000</td>\n",
       "      <td>0.163400</td>\n",
       "      <td>0.345400</td>\n",
       "      <td>0.426800</td>\n",
       "      <td>0.201200</td>\n",
       "      <td>...</td>\n",
       "      <td>36.040000</td>\n",
       "      <td>49.540000</td>\n",
       "      <td>251.200000</td>\n",
       "      <td>4254.000000</td>\n",
       "      <td>0.222600</td>\n",
       "      <td>1.058000</td>\n",
       "      <td>1.252000</td>\n",
       "      <td>0.291000</td>\n",
       "      <td>0.663800</td>\n",
       "      <td>0.207500</td>\n",
       "    </tr>\n",
       "  </tbody>\n",
       "</table>\n",
       "<p>11 rows × 32 columns</p>\n",
       "</div>"
      ],
      "text/plain": [
       "                  ID diagnosis  radius_mean  radius_sd_error  radius_worst  \\\n",
       "count   5.690000e+02       569   569.000000       569.000000    569.000000   \n",
       "unique           NaN         2          NaN              NaN           NaN   \n",
       "top              NaN         B          NaN              NaN           NaN   \n",
       "freq             NaN       357          NaN              NaN           NaN   \n",
       "mean    3.037183e+07       NaN    14.127292        19.289649     91.969033   \n",
       "std     1.250206e+08       NaN     3.524049         4.301036     24.298981   \n",
       "min     8.670000e+03       NaN     6.981000         9.710000     43.790000   \n",
       "25%     8.692180e+05       NaN    11.700000        16.170000     75.170000   \n",
       "50%     9.060240e+05       NaN    13.370000        18.840000     86.240000   \n",
       "75%     8.813129e+06       NaN    15.780000        21.800000    104.100000   \n",
       "max     9.113205e+08       NaN    28.110000        39.280000    188.500000   \n",
       "\n",
       "        texture_mean  texture_sd_error  texture_worst  perimeter_mean  \\\n",
       "count     569.000000        569.000000     569.000000      569.000000   \n",
       "unique           NaN               NaN            NaN             NaN   \n",
       "top              NaN               NaN            NaN             NaN   \n",
       "freq             NaN               NaN            NaN             NaN   \n",
       "mean      654.889104          0.096360       0.104341        0.088799   \n",
       "std       351.914129          0.014064       0.052813        0.079720   \n",
       "min       143.500000          0.052630       0.019380        0.000000   \n",
       "25%       420.300000          0.086370       0.064920        0.029560   \n",
       "50%       551.100000          0.095870       0.092630        0.061540   \n",
       "75%       782.700000          0.105300       0.130400        0.130700   \n",
       "max      2501.000000          0.163400       0.345400        0.426800   \n",
       "\n",
       "        perimeter_sd_error           ...             concavity_worst  \\\n",
       "count           569.000000           ...                  569.000000   \n",
       "unique                 NaN           ...                         NaN   \n",
       "top                    NaN           ...                         NaN   \n",
       "freq                   NaN           ...                         NaN   \n",
       "mean              0.048919           ...                   16.269190   \n",
       "std               0.038803           ...                    4.833242   \n",
       "min               0.000000           ...                    7.930000   \n",
       "25%               0.020310           ...                   13.010000   \n",
       "50%               0.033500           ...                   14.970000   \n",
       "75%               0.074000           ...                   18.790000   \n",
       "max               0.201200           ...                   36.040000   \n",
       "\n",
       "        concave_points_mean  concave_points_sd_error  concave_points_worst  \\\n",
       "count            569.000000               569.000000            569.000000   \n",
       "unique                  NaN                      NaN                   NaN   \n",
       "top                     NaN                      NaN                   NaN   \n",
       "freq                    NaN                      NaN                   NaN   \n",
       "mean              25.677223               107.261213            880.583128   \n",
       "std                6.146258                33.602542            569.356993   \n",
       "min               12.020000                50.410000            185.200000   \n",
       "25%               21.080000                84.110000            515.300000   \n",
       "50%               25.410000                97.660000            686.500000   \n",
       "75%               29.720000               125.400000           1084.000000   \n",
       "max               49.540000               251.200000           4254.000000   \n",
       "\n",
       "        symmetry_mean  symmetry_sd_error  symmetry_worst  \\\n",
       "count      569.000000         569.000000      569.000000   \n",
       "unique            NaN                NaN             NaN   \n",
       "top               NaN                NaN             NaN   \n",
       "freq              NaN                NaN             NaN   \n",
       "mean         0.132369           0.254265        0.272188   \n",
       "std          0.022832           0.157336        0.208624   \n",
       "min          0.071170           0.027290        0.000000   \n",
       "25%          0.116600           0.147200        0.114500   \n",
       "50%          0.131300           0.211900        0.226700   \n",
       "75%          0.146000           0.339100        0.382900   \n",
       "max          0.222600           1.058000        1.252000   \n",
       "\n",
       "        fractal_dimension_mean  fractal_dimension_sd_error  \\\n",
       "count               569.000000                  569.000000   \n",
       "unique                     NaN                         NaN   \n",
       "top                        NaN                         NaN   \n",
       "freq                       NaN                         NaN   \n",
       "mean                  0.114606                    0.290076   \n",
       "std                   0.065732                    0.061867   \n",
       "min                   0.000000                    0.156500   \n",
       "25%                   0.064930                    0.250400   \n",
       "50%                   0.099930                    0.282200   \n",
       "75%                   0.161400                    0.317900   \n",
       "max                   0.291000                    0.663800   \n",
       "\n",
       "        fractal_dimension_worst  \n",
       "count                569.000000  \n",
       "unique                      NaN  \n",
       "top                         NaN  \n",
       "freq                        NaN  \n",
       "mean                   0.083946  \n",
       "std                    0.018061  \n",
       "min                    0.055040  \n",
       "25%                    0.071460  \n",
       "50%                    0.080040  \n",
       "75%                    0.092080  \n",
       "max                    0.207500  \n",
       "\n",
       "[11 rows x 32 columns]"
      ]
     },
     "execution_count": 91,
     "metadata": {},
     "output_type": "execute_result"
    }
   ],
   "source": [
    "desc_stats = raw_data.describe(include='all')\n",
    "desc_stats\n",
    "\n",
    "\n",
    "# In order to print the full dataframe, I use the following code:\n",
    "\n",
    "# with pd.option_context('display.max_columns', 32):\n",
    "#     print desc_stats"
   ]
  },
  {
   "cell_type": "code",
   "execution_count": 99,
   "metadata": {
    "collapsed": false
   },
   "outputs": [
    {
     "data": {
      "text/plain": [
       "array([[<matplotlib.axes._subplots.AxesSubplot object at 0x1272ad650>,\n",
       "        <matplotlib.axes._subplots.AxesSubplot object at 0x126993550>,\n",
       "        <matplotlib.axes._subplots.AxesSubplot object at 0x128bd7c90>,\n",
       "        <matplotlib.axes._subplots.AxesSubplot object at 0x127a50a90>,\n",
       "        <matplotlib.axes._subplots.AxesSubplot object at 0x1291bd790>,\n",
       "        <matplotlib.axes._subplots.AxesSubplot object at 0x129433810>],\n",
       "       [<matplotlib.axes._subplots.AxesSubplot object at 0x1294e3850>,\n",
       "        <matplotlib.axes._subplots.AxesSubplot object at 0x12955f7d0>,\n",
       "        <matplotlib.axes._subplots.AxesSubplot object at 0x1295bfb90>,\n",
       "        <matplotlib.axes._subplots.AxesSubplot object at 0x12963bb10>,\n",
       "        <matplotlib.axes._subplots.AxesSubplot object at 0x12969f910>,\n",
       "        <matplotlib.axes._subplots.AxesSubplot object at 0x129729b10>],\n",
       "       [<matplotlib.axes._subplots.AxesSubplot object at 0x1297aba90>,\n",
       "        <matplotlib.axes._subplots.AxesSubplot object at 0x12981a610>,\n",
       "        <matplotlib.axes._subplots.AxesSubplot object at 0x12989d590>,\n",
       "        <matplotlib.axes._subplots.AxesSubplot object at 0x1299036d0>,\n",
       "        <matplotlib.axes._subplots.AxesSubplot object at 0x129982750>,\n",
       "        <matplotlib.axes._subplots.AxesSubplot object at 0x1299bc7d0>],\n",
       "       [<matplotlib.axes._subplots.AxesSubplot object at 0x129b73710>,\n",
       "        <matplotlib.axes._subplots.AxesSubplot object at 0x129bf5690>,\n",
       "        <matplotlib.axes._subplots.AxesSubplot object at 0x129c59990>,\n",
       "        <matplotlib.axes._subplots.AxesSubplot object at 0x129cda910>,\n",
       "        <matplotlib.axes._subplots.AxesSubplot object at 0x129d45710>,\n",
       "        <matplotlib.axes._subplots.AxesSubplot object at 0x129dcc850>],\n",
       "       [<matplotlib.axes._subplots.AxesSubplot object at 0x129e4f7d0>,\n",
       "        <matplotlib.axes._subplots.AxesSubplot object at 0x129ebe410>,\n",
       "        <matplotlib.axes._subplots.AxesSubplot object at 0x129f41390>,\n",
       "        <matplotlib.axes._subplots.AxesSubplot object at 0x129fa64d0>,\n",
       "        <matplotlib.axes._subplots.AxesSubplot object at 0x12a026450>,\n",
       "        <matplotlib.axes._subplots.AxesSubplot object at 0x12a05f4d0>],\n",
       "       [<matplotlib.axes._subplots.AxesSubplot object at 0x12a116510>,\n",
       "        <matplotlib.axes._subplots.AxesSubplot object at 0x12a19a490>,\n",
       "        <matplotlib.axes._subplots.AxesSubplot object at 0x12a1fd790>,\n",
       "        <matplotlib.axes._subplots.AxesSubplot object at 0x12a281710>,\n",
       "        <matplotlib.axes._subplots.AxesSubplot object at 0x12a2e8510>,\n",
       "        <matplotlib.axes._subplots.AxesSubplot object at 0x12a470650>]], dtype=object)"
      ]
     },
     "execution_count": 99,
     "metadata": {},
     "output_type": "execute_result"
    },
    {
     "data": {
      "image/png": "[encoded data removed]",
      "text/plain": [
       "<matplotlib.figure.Figure at 0x11f0b7b10>"
      ]
     },
     "metadata": {},
     "output_type": "display_data"
    }
   ],
   "source": [
    "raw_data.hist(figsize=(12,12))"
   ]
  },
  {
   "cell_type": "code",
   "execution_count": 89,
   "metadata": {
    "collapsed": false
   },
   "outputs": [
    {
     "data": {
      "text/html": [
       "<div>\n",
       "<table border=\"1\" class=\"dataframe\">\n",
       "  <thead>\n",
       "    <tr>\n",
       "      <th></th>\n",
       "      <th colspan=\"2\" halign=\"left\">compactness_mean</th>\n",
       "      <th colspan=\"2\" halign=\"left\">smoothness_mean</th>\n",
       "    </tr>\n",
       "    <tr>\n",
       "      <th></th>\n",
       "      <th>mean</th>\n",
       "      <th>median</th>\n",
       "      <th>mean</th>\n",
       "      <th>median</th>\n",
       "    </tr>\n",
       "    <tr>\n",
       "      <th>diagnosis</th>\n",
       "      <th></th>\n",
       "      <th></th>\n",
       "      <th></th>\n",
       "      <th></th>\n",
       "    </tr>\n",
       "  </thead>\n",
       "  <tbody>\n",
       "    <tr>\n",
       "      <th>B</th>\n",
       "      <td>0.021438</td>\n",
       "      <td>0.01631</td>\n",
       "      <td>2.000321</td>\n",
       "      <td>1.8510</td>\n",
       "    </tr>\n",
       "    <tr>\n",
       "      <th>M</th>\n",
       "      <td>0.032281</td>\n",
       "      <td>0.02859</td>\n",
       "      <td>4.323929</td>\n",
       "      <td>3.6795</td>\n",
       "    </tr>\n",
       "  </tbody>\n",
       "</table>\n",
       "</div>"
      ],
      "text/plain": [
       "          compactness_mean          smoothness_mean        \n",
       "                      mean   median            mean  median\n",
       "diagnosis                                                  \n",
       "B                 0.021438  0.01631        2.000321  1.8510\n",
       "M                 0.032281  0.02859        4.323929  3.6795"
      ]
     },
     "execution_count": 89,
     "metadata": {},
     "output_type": "execute_result"
    }
   ],
   "source": [
    "# Compute the mean and median smoothness and compactness for benign and malignant tumors - do they differ? \n",
    "\n",
    "mean_median = raw_data.groupby('diagnosis').agg({\n",
    "    'smoothness_mean' : [np.mean, np.median],\n",
    "    'compactness_mean' : [np.mean, np.median],\n",
    "    })\n",
    "\n",
    "mean_median"
   ]
  },
  {
   "cell_type": "markdown",
   "metadata": {},
   "source": [
    "##### Do the computed means and medians of smoothness and compactness differ bewteen benign and malignant tumors? \n",
    "\n",
    "- Yes, the mean and median smoothness and compactness are different for benign tumors and malignant tumors.\n",
    "\n",
    "##### Explain how you would identify this.\n",
    "\n",
    "- Use hypothesis test: two-sample t-test (uising Welch's t-test)\n",
    "    \n",
    "    - Null Hypothesis: There is no difference between the means of smoothness and compactness for benign and malignant tumors.\n",
    "    - Alternative Hypothesis: There is a difference between the means of smoothness and compactness for benign and   malignant tumors.\n",
    "    - Significance Level = 95%\n",
    "    - alpha = 0.05"
   ]
  },
  {
   "cell_type": "code",
   "execution_count": 110,
   "metadata": {
    "collapsed": false
   },
   "outputs": [],
   "source": [
    "# Hypothesis Testing: Use scipy.stats.ttest_ind. using Welch's t-test\n",
    "\n",
    "from __future__ import print_function\n",
    "\n",
    "sig_lvl = 0.05\n",
    "\n",
    "# Create sample data.\n",
    "\n",
    "b = raw_data[raw_data.diagnosis=='B']\n",
    "m = raw_data[raw_data.diagnosis=='M']\n",
    "\n",
    "s_b = b['smoothness_mean']\n",
    "c_b = b['compactness_mean']\n",
    "s_m = m['smoothness_mean']\n",
    "c_m = m['compactness_mean']"
   ]
  },
  {
   "cell_type": "code",
   "execution_count": 111,
   "metadata": {
    "collapsed": false
   },
   "outputs": [
    {
     "name": "stdout",
     "output_type": "stream",
     "text": [
      "ttest_ind:            t = -12.8328  p = 6.86855e-29\n",
      "Because p-value is less than the significance level, we should REJECT the null hypothesis.\n"
     ]
    }
   ],
   "source": [
    "# Smoothness Mean\n",
    "\n",
    "t, p = ttest_ind(s_b, s_m, equal_var=False)\n",
    "print(\"ttest_ind:            t = %g  p = %g\" % (t, p))\n",
    "\n",
    "if p <= sig_lvl:\n",
    "    print(\"Because p-value is less than the significance level, we should REJECT the null hypothesis.\")\n",
    "else:\n",
    "    print(\"Because p-value is more than the significance level, we should NOT REJECT the null hypothesis.\")"
   ]
  },
  {
   "cell_type": "code",
   "execution_count": 112,
   "metadata": {
    "collapsed": false
   },
   "outputs": [
    {
     "name": "stdout",
     "output_type": "stream",
     "text": [
      "ttest_ind:            t = -7.08264  p = 6.34181e-12\n",
      "Because p-value is less than the significance level, we should REJECT the null hypothesis.\n"
     ]
    }
   ],
   "source": [
    "# Compactness Mean\n",
    "\n",
    "t, p = ttest_ind(c_b, c_m, equal_var=False)\n",
    "print(\"ttest_ind:            t = %g  p = %g\" % (t, p))\n",
    "\n",
    "if p <= sig_lvl:\n",
    "    print(\"Because p-value is less than the significance level, we should REJECT the null hypothesis.\")\n",
    "else:\n",
    "    print(\"Because p-value is more than the significance level, we should NOT REJECT the null hypothesis.\")"
   ]
  },
  {
   "cell_type": "markdown",
   "metadata": {},
   "source": [
    "- Based on results of hypothesis tests above: \n",
    "    - We can say with a 95% Confidence Interval, that there is a difference between the means of smoothness and compactness for benign and malignant tumors.\n"
   ]
  },
  {
   "cell_type": "code",
   "execution_count": 147,
   "metadata": {
    "collapsed": false
   },
   "outputs": [],
   "source": [
    "# Write a function to generate bootstrap samples of the data.\n",
    "\n",
    "# bootstrap = random sample with replacement\n",
    "\n",
    "def bootstrap_resample(data, n=None):\n",
    "    # data: data to resample; pd.series\n",
    "    # n: bootstrap sample size; int\n",
    "    \n",
    "    data.index = range(len(data.index))\n",
    "    \n",
    "    if n == None:\n",
    "        n = len(data)\n",
    "        \n",
    "    bootstrap_sample = np.random.choice(data, size=n, replace=True, p=None)\n",
    "\n",
    "    # output is a numpy array of bootstrap sample\n",
    "    return bootstrap_sample"
   ]
  },
  {
   "cell_type": "code",
   "execution_count": 148,
   "metadata": {
    "collapsed": false
   },
   "outputs": [
    {
     "data": {
      "text/plain": [
       "array([ 1.903,  2.873,  2.927,  2.961,  6.372,  2.844,  1.602,  2.193,\n",
       "        3.564,  1.545])"
      ]
     },
     "execution_count": 148,
     "metadata": {},
     "output_type": "execute_result"
    }
   ],
   "source": [
    "bootstrap_resample(s_m, n=10)"
   ]
  },
  {
   "cell_type": "markdown",
   "metadata": {},
   "source": [
    "#### Exploratory Data Analysis (EDA)"
   ]
  },
  {
   "cell_type": "markdown",
   "metadata": {},
   "source": [
    "##### Identify 2-3 variables that are predictive of a malignant tumor.\n",
    "\n",
    "- Based on a logistic regression analysis, the following variables are predictive of a malignant tumor:\n",
    "    \n",
    "    1) radius_mean\n",
    "    \n",
    "    2) texture_mean\n",
    "    \n",
    "    3) smoothness_mean \n",
    "    \n",
    "    \n",
    "- See code and output below"
   ]
  },
  {
   "cell_type": "code",
   "execution_count": 241,
   "metadata": {
    "collapsed": false
   },
   "outputs": [
    {
     "name": "stdout",
     "output_type": "stream",
     "text": [
      "Optimization terminated successfully.\n",
      "         Current function value: 0.070602\n",
      "         Iterations 12\n"
     ]
    },
    {
     "data": {
      "text/html": [
       "<table class=\"simpletable\">\n",
       "<caption>MNLogit Regression Results</caption>\n",
       "<tr>\n",
       "  <th>Dep. Variable:</th>         <td>y</td>        <th>  No. Observations:  </th>   <td>   569</td>  \n",
       "</tr>\n",
       "<tr>\n",
       "  <th>Model:</th>              <td>MNLogit</td>     <th>  Df Residuals:      </th>   <td>   559</td>  \n",
       "</tr>\n",
       "<tr>\n",
       "  <th>Method:</th>               <td>MLE</td>       <th>  Df Model:          </th>   <td>     9</td>  \n",
       "</tr>\n",
       "<tr>\n",
       "  <th>Date:</th>          <td>Wed, 26 Oct 2016</td> <th>  Pseudo R-squ.:     </th>   <td>0.8931</td>  \n",
       "</tr>\n",
       "<tr>\n",
       "  <th>Time:</th>              <td>16:08:03</td>     <th>  Log-Likelihood:    </th>  <td> -40.173</td> \n",
       "</tr>\n",
       "<tr>\n",
       "  <th>converged:</th>           <td>True</td>       <th>  LL-Null:           </th>  <td> -375.72</td> \n",
       "</tr>\n",
       "<tr>\n",
       "  <th> </th>                      <td> </td>        <th>  LLR p-value:       </th> <td>1.129e-138</td>\n",
       "</tr>\n",
       "</table>\n",
       "<table class=\"simpletable\">\n",
       "<tr>\n",
       "  <th>y=M</th>    <th>coef</th>     <th>std err</th>      <th>z</th>      <th>P>|z|</th> <th>[95.0% Conf. Int.]</th> \n",
       "</tr>\n",
       "<tr>\n",
       "  <th>x1</th>  <td>   -4.1991</td> <td>    1.066</td> <td>   -3.938</td> <td> 0.000</td> <td>   -6.289    -2.109</td>\n",
       "</tr>\n",
       "<tr>\n",
       "  <th>x2</th>  <td>    0.0594</td> <td>    0.015</td> <td>    4.014</td> <td> 0.000</td> <td>    0.030     0.088</td>\n",
       "</tr>\n",
       "<tr>\n",
       "  <th>x3</th>  <td>   13.0808</td> <td>   11.367</td> <td>    1.151</td> <td> 0.250</td> <td>   -9.198    35.360</td>\n",
       "</tr>\n",
       "<tr>\n",
       "  <th>x4</th>  <td>  -92.4237</td> <td>   98.329</td> <td>   -0.940</td> <td> 0.347</td> <td> -285.145   100.297</td>\n",
       "</tr>\n",
       "<tr>\n",
       "  <th>x5</th>  <td>    1.4207</td> <td>    0.346</td> <td>    4.101</td> <td> 0.000</td> <td>    0.742     2.100</td>\n",
       "</tr>\n",
       "<tr>\n",
       "  <th>x6</th>  <td>  -75.3301</td> <td>   28.100</td> <td>   -2.681</td> <td> 0.007</td> <td> -130.405   -20.255</td>\n",
       "</tr>\n",
       "<tr>\n",
       "  <th>x7</th>  <td>   46.2215</td> <td>   56.335</td> <td>    0.820</td> <td> 0.412</td> <td>  -64.193   156.636</td>\n",
       "</tr>\n",
       "<tr>\n",
       "  <th>x8</th>  <td>    0.3261</td> <td>    0.065</td> <td>    4.991</td> <td> 0.000</td> <td>    0.198     0.454</td>\n",
       "</tr>\n",
       "<tr>\n",
       "  <th>x9</th>  <td>   55.8680</td> <td>   22.765</td> <td>    2.454</td> <td> 0.014</td> <td>   11.249   100.487</td>\n",
       "</tr>\n",
       "<tr>\n",
       "  <th>x10</th> <td>   63.5603</td> <td>   16.036</td> <td>    3.963</td> <td> 0.000</td> <td>   32.129    94.991</td>\n",
       "</tr>\n",
       "</table>"
      ],
      "text/plain": [
       "<class 'statsmodels.iolib.summary.Summary'>\n",
       "\"\"\"\n",
       "                          MNLogit Regression Results                          \n",
       "==============================================================================\n",
       "Dep. Variable:                      y   No. Observations:                  569\n",
       "Model:                        MNLogit   Df Residuals:                      559\n",
       "Method:                           MLE   Df Model:                            9\n",
       "Date:                Wed, 26 Oct 2016   Pseudo R-squ.:                  0.8931\n",
       "Time:                        16:08:03   Log-Likelihood:                -40.173\n",
       "converged:                       True   LL-Null:                       -375.72\n",
       "                                        LLR p-value:                1.129e-138\n",
       "==============================================================================\n",
       "       y=M       coef    std err          z      P>|z|      [95.0% Conf. Int.]\n",
       "------------------------------------------------------------------------------\n",
       "x1            -4.1991      1.066     -3.938      0.000        -6.289    -2.109\n",
       "x2             0.0594      0.015      4.014      0.000         0.030     0.088\n",
       "x3            13.0808     11.367      1.151      0.250        -9.198    35.360\n",
       "x4           -92.4237     98.329     -0.940      0.347      -285.145   100.297\n",
       "x5             1.4207      0.346      4.101      0.000         0.742     2.100\n",
       "x6           -75.3301     28.100     -2.681      0.007      -130.405   -20.255\n",
       "x7            46.2215     56.335      0.820      0.412       -64.193   156.636\n",
       "x8             0.3261      0.065      4.991      0.000         0.198     0.454\n",
       "x9            55.8680     22.765      2.454      0.014        11.249   100.487\n",
       "x10           63.5603     16.036      3.963      0.000        32.129    94.991\n",
       "==============================================================================\n",
       "\"\"\""
      ]
     },
     "execution_count": 241,
     "metadata": {},
     "output_type": "execute_result"
    }
   ],
   "source": [
    "# Setting x and y\n",
    "\n",
    "data_df   = raw_data[['radius_mean', 'texture_mean', 'perimeter_mean', 'area_mean', 'smoothness_mean', 'compactness_mean','concavity_mean','concave_points_mean','symmetry_mean','fractal_dimension_mean']]\n",
    "target_df = raw_data['diagnosis']\n",
    "\n",
    "#Convert DataFrame to Numpy Array\n",
    "x = data_df.as_matrix()\n",
    "y = target_df.as_matrix()\n",
    "\n",
    "# logistic regression\n",
    "mdl = sm.MNLogit(y, x)\n",
    "mdl_fit = mdl.fit()\n",
    "\n",
    "mdl_fit.summary()"
   ]
  },
  {
   "cell_type": "code",
   "execution_count": 244,
   "metadata": {
    "collapsed": false
   },
   "outputs": [
    {
     "data": {
      "text/plain": [
       "<seaborn.axisgrid.PairGrid at 0x1abcf6350>"
      ]
     },
     "execution_count": 244,
     "metadata": {},
     "output_type": "execute_result"
    },
    {
     "data": {
      "image/png": "[encoded data removed]",
      "text/plain": [
       "<matplotlib.figure.Figure at 0x1aa330250>"
      ]
     },
     "metadata": {},
     "output_type": "display_data"
    }
   ],
   "source": [
    "# Display the relationship visually and write 1-2 sentences explaining the relationship (explanation is below figure).\n",
    "\n",
    "vars_of_interest = raw_data[['radius_mean', 'texture_mean', 'smoothness_mean', 'diagnosis']]\n",
    "\n",
    "sns.set()\n",
    "\n",
    "sns.pairplot(vars_of_interest, hue='diagnosis')"
   ]
  },
  {
   "cell_type": "markdown",
   "metadata": {},
   "source": [
    "##### Explaining the relationship: As can be seen in the scatterplots and histograms in the figure above, malignant tumors are associated with higher values of means for smoothness, texture, and radius of a tumor."
   ]
  },
  {
   "cell_type": "markdown",
   "metadata": {},
   "source": [
    "#### Modeling"
   ]
  },
  {
   "cell_type": "code",
   "execution_count": 263,
   "metadata": {
    "collapsed": false
   },
   "outputs": [
    {
     "name": "stdout",
     "output_type": "stream",
     "text": [
      "                        importance\n",
      "fractal_dimension_mean    0.703938\n",
      "texture_mean              0.103974\n",
      "concave_points_mean       0.087398\n",
      "area_mean                 0.021009\n",
      "radius_mean               0.020961\n"
     ]
    },
    {
     "data": {
      "image/png": "[encoded data removed]",
      "text/plain": [
       "<matplotlib.figure.Figure at 0x1ae53d290>"
      ]
     },
     "metadata": {},
     "output_type": "display_data"
    }
   ],
   "source": [
    "# Build a model to predict the malignant tumors. Use at least two classification techniques\n",
    "\n",
    "# Dummify data\n",
    "\n",
    "df_dummies = pd.concat([raw_data, pd.get_dummies(raw_data['diagnosis'])], axis=1)\n",
    "\n",
    "# Classification Model #1: Decision Tree\n",
    "\n",
    "X = raw_data[['radius_mean', 'texture_mean', 'perimeter_mean', 'area_mean', 'smoothness_mean', 'compactness_mean','concavity_mean','concave_points_mean','symmetry_mean','fractal_dimension_mean']]\n",
    "y = df_dummies['M']\n",
    "\n",
    "from sklearn.tree import DecisionTreeClassifier\n",
    "\n",
    "dt = DecisionTreeClassifier()\n",
    "dt.fit(X, y)\n",
    "\n",
    "importances = dt.feature_importances_\n",
    "# std = np.std([tree.feature_importances_ for tree in dt.estimators_],\n",
    "#              axis=0)\n",
    "indices = np.argsort(importances)[::-1]\n",
    "\n",
    "# Print the feature ranking\n",
    "feature_importances = pd.DataFrame(dt.feature_importances_,\n",
    "                                   index = X.columns,\n",
    "                                    columns=['importance']).sort_values('importance',\n",
    "                                                                        ascending=False)\n",
    "print (feature_importances.head())\n",
    "\n",
    "# Plot the feature importances of the forest\n",
    "plt.figure()\n",
    "plt.title(\"Feature importances\")\n",
    "plt.bar(range(X.shape[1]), importances[indices],\n",
    "       color=\"r\", yerr=std[indices], align=\"center\")\n",
    "plt.xticks(range(X.shape[1]), indices)\n",
    "plt.xlim([-1, X.shape[1]])\n",
    "plt.show()"
   ]
  },
  {
   "cell_type": "code",
   "execution_count": 261,
   "metadata": {
    "collapsed": false
   },
   "outputs": [
    {
     "name": "stdout",
     "output_type": "stream",
     "text": [
      "                        importance\n",
      "texture_mean              0.315773\n",
      "fractal_dimension_mean    0.247593\n",
      "perimeter_mean            0.207307\n",
      "smoothness_mean           0.068252\n",
      "radius_mean               0.042500\n"
     ]
    },
    {
     "data": {
      "image/png": "[encoded data removed]",
      "text/plain": [
       "<matplotlib.figure.Figure at 0x1abf6ead0>"
      ]
     },
     "metadata": {},
     "output_type": "display_data"
    }
   ],
   "source": [
    "# Classification Model #2: Random Forest\n",
    "\n",
    "from sklearn.ensemble import RandomForestClassifier, ExtraTreesClassifier\n",
    "\n",
    "forest = RandomForestClassifier()\n",
    "\n",
    "forest.fit(X, y)\n",
    "\n",
    "importances = forest.feature_importances_\n",
    "std = np.std([tree.feature_importances_ for tree in forest.estimators_],\n",
    "             axis=0)\n",
    "indices = np.argsort(importances)[::-1]\n",
    "\n",
    "# Print the feature ranking\n",
    "feature_importances = pd.DataFrame(forest.feature_importances_,\n",
    "                                   index = X.columns,\n",
    "                                    columns=['importance']).sort_values('importance',\n",
    "                                                                        ascending=False)\n",
    "print (feature_importances.head())\n",
    "\n",
    "# Plot the feature importances of the forest\n",
    "plt.figure()\n",
    "plt.title(\"Feature importances\")\n",
    "plt.bar(range(X.shape[1]), importances[indices],\n",
    "       color=\"r\", yerr=std[indices], align=\"center\")\n",
    "plt.xticks(range(X.shape[1]), indices)\n",
    "plt.xlim([-1, X.shape[1]])\n",
    "plt.show()"
   ]
  },
  {
   "cell_type": "markdown",
   "metadata": {},
   "source": [
    "##### Compare and contrast the advantages and disadvantages of each.\n",
    "\n",
    "\n",
    "- Decision Trees Pros:\n",
    "\n",
    "    - Intuitive Decision Rules\n",
    "    - Can handle non-linear features\n",
    "    - Take into account variable interactions\n",
    "\n",
    "- Decision Trees Cons:\n",
    "\n",
    "    - Highly biased to training set [Random Forests to your rescue]\n",
    "    - No ranking score as direct result\n",
    "\n",
    "-----\n",
    "\n",
    "- Random Forests Pros:\n",
    "\n",
    "    - It runs efficiently on large databases.\n",
    "    - It can handle thousands of input variables without variable deletion.\n",
    "    - It gives estimates of what variables are important in the classification.\n",
    "    - It generates an internal unbiased estimate of the generalization error as the forest building progresses.\n",
    "\n",
    "- Random Forest Cons\n",
    "\n",
    "    - Random forests have been observed to overfit for some datasets with noisy classification/regression tasks.\n",
    "    - Unlike decision trees, the classifications made by random forests are difficult for humans to interpret.\n",
    "    - For data including categorical variables with different number of levels, random forests are biased in favor of those attributes with more levels. Therefore, the variable importance scores from random forest are not reliable for this type of data. \n",
    "    - If the data contain groups of correlated features of similar relevance for the output, then smaller groups are favored over larger groups."
   ]
  },
  {
   "cell_type": "markdown",
   "metadata": {},
   "source": [
    "##### Identify how you would control for overfitting in each classification technique.\n",
    "\n",
    "- Decision Tree:\n",
    "\n",
    "1) Pre-pruning that stop growing the tree earlier, before it perfectly classifies the training set.\n",
    "\n",
    "2) Post-pruning that allows the tree to perfectly classify the training set, and then post prune the tree. \n",
    "\n",
    "----\n",
    "\n",
    "- Random Forest:\n",
    "\n",
    "1) Optimize a tuning parameter that governs the number of features that are randomly chosen to grow each tree from the bootstrapped data. Typically, you do this via kk-fold cross-validation, and choose the tuning parameter that minimizes test sample prediction error. \n",
    "\n",
    "2) Grow a larger forest will improve predictive accuracy, although there are usually diminishing returns once you get up to a certain number.\n",
    "\n",
    "##### In each model, identify the most important predictive variables and explain how you identified them.\n",
    "\n",
    "- Look at feature importances bar graph and code above"
   ]
  },
  {
   "cell_type": "code",
   "execution_count": 267,
   "metadata": {
    "collapsed": false
   },
   "outputs": [],
   "source": [
    "# Evaluate the performance of each model.\n",
    "\n",
    "from sklearn.cross_validation import train_test_split, KFold\n",
    "from sklearn.metrics import accuracy_score, precision_score, recall_score, confusion_matrix, classification_report\n",
    "\n",
    "\n",
    "def evaluate_model(model):\n",
    "    model.fit(X_train, y_train)\n",
    "    y_pred = model.predict(X_test)\n",
    "    \n",
    "    a = accuracy_score(y_test, y_pred)\n",
    "    \n",
    "    cm = confusion_matrix(y_test, y_pred)\n",
    "    cr = classification_report(y_test, y_pred)\n",
    "    \n",
    "    print (cm)\n",
    "    print (cr)\n",
    "    \n",
    "    return a\n",
    "\n",
    "all_models = {}"
   ]
  },
  {
   "cell_type": "code",
   "execution_count": 268,
   "metadata": {
    "collapsed": false
   },
   "outputs": [
    {
     "name": "stdout",
     "output_type": "stream",
     "text": [
      "[[113   8]\n",
      " [  5  62]]\n",
      "             precision    recall  f1-score   support\n",
      "\n",
      "        0.0       0.96      0.93      0.95       121\n",
      "        1.0       0.89      0.93      0.91        67\n",
      "\n",
      "avg / total       0.93      0.93      0.93       188\n",
      "\n"
     ]
    },
    {
     "data": {
      "text/plain": [
       "0.93085106382978722"
      ]
     },
     "execution_count": 268,
     "metadata": {},
     "output_type": "execute_result"
    }
   ],
   "source": [
    "evaluate_model(dt)"
   ]
  },
  {
   "cell_type": "code",
   "execution_count": 269,
   "metadata": {
    "collapsed": false
   },
   "outputs": [
    {
     "name": "stdout",
     "output_type": "stream",
     "text": [
      "[[119   2]\n",
      " [  8  59]]\n",
      "             precision    recall  f1-score   support\n",
      "\n",
      "        0.0       0.94      0.98      0.96       121\n",
      "        1.0       0.97      0.88      0.92        67\n",
      "\n",
      "avg / total       0.95      0.95      0.95       188\n",
      "\n"
     ]
    },
    {
     "data": {
      "text/plain": [
       "0.94680851063829785"
      ]
     },
     "execution_count": 269,
     "metadata": {},
     "output_type": "execute_result"
    }
   ],
   "source": [
    "evaluate_model(forest)"
   ]
  },
  {
   "cell_type": "markdown",
   "metadata": {},
   "source": [
    "#### Explanation To Technical Audiences"
   ]
  },
  {
   "cell_type": "markdown",
   "metadata": {},
   "source": [
    "Explain the limitations of your analysis and identify possible further steps you could take.\n",
    "\n",
    "1) Make sure assumption is correct. I assumed a normal distribution of the data.\n",
    "\n",
    "2) Did not cross-validate when building the model\n",
    "\n",
    "3) Did not address over-fitting of data\n",
    "\n",
    "----\n",
    "Next steps:\n",
    "\n",
    "1) Scale data\n",
    "\n",
    "2) Compare to other classification techniques such as cross-validated logistic regression, k nearest neighbors\n",
    "\n",
    "3) Build bagging classifiers and compare"
   ]
  },
  {
   "cell_type": "markdown",
   "metadata": {},
   "source": [
    "#### Explanation To Non-Technical Audiences"
   ]
  },
  {
   "cell_type": "markdown",
   "metadata": {},
   "source": [
    "Write a short summary of your analysis, explaining how your model works and how it performs.\n",
    "\n",
    "- For this analysis, models (in particuar, tree classifiers) were built to determine which independent variables from the datasets (i.e. the characteristics of the tumor) were predictive of the dependent or target variable (i.e. malignant tumor).\n",
    "\n",
    "- The decision tree classifier creates a type of flowchart which consists of nodes (i.e. leafs) and a set of decisions to be made based off of the node (i.e. branches)\n",
    "\n",
    "- The random forest technique takes the decision tree concept further by producing a large number of decision trees:\n",
    "    - The approach first takes a random sample of the data and identifies a key set of features to grow each decision tree.\n",
    "    - These decision trees then have their error rate determined and then collection of decision trees are compared to find the joint set of variables that produce the strongest classification model.\n",
    "\n",
    "\n",
    "Briefly explain the factors that contributed to malignant vs benign tumor identification.\n",
    "\n",
    "- Factors that contributed to malignant tumor identification: texture_mean, fractal_dimension_mean, perimeter_mean \n",
    "- Factors that contributed to benign tumor identification: texture_mean, fractal_dimension_mean, radius_mean "
   ]
  },
  {
   "cell_type": "code",
   "execution_count": 270,
   "metadata": {
    "collapsed": false
   },
   "outputs": [
    {
     "name": "stdout",
     "output_type": "stream",
     "text": [
      "                        importance\n",
      "fractal_dimension_mean    0.393795\n",
      "texture_mean              0.201775\n",
      "radius_mean               0.164504\n",
      "perimeter_mean            0.097600\n",
      "symmetry_mean             0.033236\n"
     ]
    },
    {
     "data": {
      "image/png": "[encoded data removed]",
      "text/plain": [
       "<matplotlib.figure.Figure at 0x1abf6ea90>"
      ]
     },
     "metadata": {},
     "output_type": "display_data"
    }
   ],
   "source": [
    "# Classification Model #2: Random Forest\n",
    "\n",
    "y_b = df_dummies['B']\n",
    "\n",
    "\n",
    "forest.fit(X, y_b)\n",
    "\n",
    "importances = forest.feature_importances_\n",
    "std = np.std([tree.feature_importances_ for tree in forest.estimators_],\n",
    "             axis=0)\n",
    "indices = np.argsort(importances)[::-1]\n",
    "\n",
    "# Print the feature ranking\n",
    "feature_importances = pd.DataFrame(forest.feature_importances_,\n",
    "                                   index = X.columns,\n",
    "                                    columns=['importance']).sort_values('importance',\n",
    "                                                                        ascending=False)\n",
    "print (feature_importances.head())\n",
    "\n",
    "# Plot the feature importances of the forest\n",
    "plt.figure()\n",
    "plt.title(\"Feature importances\")\n",
    "plt.bar(range(X.shape[1]), importances[indices],\n",
    "       color=\"r\", yerr=std[indices], align=\"center\")\n",
    "plt.xticks(range(X.shape[1]), indices)\n",
    "plt.xlim([-1, X.shape[1]])\n",
    "plt.show()"
   ]
  },
  {
   "cell_type": "code",
   "execution_count": null,
   "metadata": {
    "collapsed": true
   },
   "outputs": [],
   "source": []
  }
 ],
 "metadata": {
  "kernelspec": {
   "display_name": "Python 2",
   "language": "python",
   "name": "python2"
  },
  "language_info": {
   "codemirror_mode": {
    "name": "ipython",
    "version": 2
   },
   "file_extension": ".py",
   "mimetype": "text/x-python",
   "name": "python",
   "nbconvert_exporter": "python",
   "pygments_lexer": "ipython2",
   "version": "2.7.9"
  }
 },
 "nbformat": 4,
 "nbformat_minor": 0
}
