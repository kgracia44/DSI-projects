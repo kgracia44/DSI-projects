{
 "cells": [
  {
   "cell_type": "code",
   "execution_count": null,
   "metadata": {
    "collapsed": true
   },
   "outputs": [],
   "source": [
    "# Dataset:\n",
    "\n",
    "# Drop 77s, Blanks, NaNs\n",
    "\n",
    "# y = 0 v 1, \n",
    "    # where 0 = High School Ed, None of the Above, Declined, etc. \n",
    "    # and 1 = Higher Ed, Ass, BA, Voc Lice, Voc Cert, or CurrEnroll\n",
    "    \n",
    "# feature importance\n",
    "    # with num_services and states as dummies\n",
    "    # with num_services and state as one feature\n",
    "    # withOUT num_services and states as dummies\n",
    "    # withOUT num_services and state as one feature\n",
    "\n",
    "\n",
    "# X = based on feature importance\n",
    "\n",
    "then model"
   ]
  },
  {
   "cell_type": "code",
   "execution_count": null,
   "metadata": {
    "collapsed": true
   },
   "outputs": [],
   "source": []
  },
  {
   "cell_type": "code",
   "execution_count": null,
   "metadata": {
    "collapsed": true
   },
   "outputs": [],
   "source": []
  },
  {
   "cell_type": "code",
   "execution_count": null,
   "metadata": {
    "collapsed": true
   },
   "outputs": [],
   "source": []
  },
  {
   "cell_type": "code",
   "execution_count": null,
   "metadata": {
    "collapsed": true
   },
   "outputs": [],
   "source": []
  }
 ],
 "metadata": {
  "kernelspec": {
   "display_name": "Python 2",
   "language": "python",
   "name": "python2"
  },
  "language_info": {
   "codemirror_mode": {
    "name": "ipython",
    "version": 2
   },
   "file_extension": ".py",
   "mimetype": "text/x-python",
   "name": "python",
   "nbconvert_exporter": "python",
   "pygments_lexer": "ipython2",
   "version": "2.7.9"
  }
 },
 "nbformat": 4,
 "nbformat_minor": 0
}
