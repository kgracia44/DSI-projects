{
 "cells": [
  {
   "cell_type": "markdown",
   "metadata": {},
   "source": [
    "# Capstone Project: Progress Report and Preliminary Findings"
   ]
  },
  {
   "cell_type": "markdown",
   "metadata": {},
   "source": [
    "#### --Context--\n",
    "\n",
    "##### Public Health Issue: Negative outcomes experienced by foster care youth who age out of the system\n",
    "\n",
    "There is a sub-population of children in the foster care system (~10% of the foster care population) who experience a phenomenon known as foster care drift and end up aging out of the system (at age 18) with no permanent home. Because these youth experience extreme instability and usually lack knowledge and skills that lead to self-sufficiency in adulthood, this sub-population is at a higher risk of experiencing negative outcomes such as homelessness, unemployment, incarceration, and mental health issues.  \n",
    "\n",
    "The John H. Chafee Foster Care Independence Program (CFCIP) was initiated to address this public health issue by providing federal funds to states for the design and administration of services geared towards helping these youth transition into adulthood successfully.\n",
    "\n",
    "CFCIP considers a former foster youth as successfully transitioned into adulthood if he or she is able to obtain positive well-being, health, education, and finanacial outcomes. \n",
    "\n",
    "##### CFCIP Logic Model\n",
    "\n",
    "<img src=\"files/cfcip_logic_model.png\">\n",
    "\n",
    "#### --Capstone Project Specific Aim and Goals--\n",
    "\n",
    "Build and develop a predictive model in order to:\n",
    "    \n",
    "1) Evaluate the John H. Chafee Foster Care Independence Program (CFCIP)\n",
    "2) Identify which services provided lead to what outcomes\n",
    "3) Identify outcomes experienced by former foster youth who receive services\n",
    "4) Recommend which services to focus funds on\n",
    "____________________________________________________________________________________________________________________\n",
    "\n",
    "#### --Problem statement--\n",
    "\n",
    "Which services provided by Chafee funded counties or agencies lead to positive (well-being, health, financial, and educational) outcomes for foster youth who age out of the system?"
   ]
  },
  {
   "cell_type": "markdown",
   "metadata": {},
   "source": [
    "##### It's coming, it's coming! You just have to check back here tomorrow evening.....Promise! \n",
    "\n",
    "###### What's coming? These items:\n",
    "\n",
    "designed to walk someone through your work:\n",
    "\n",
    "EDA HIGHLIGHTS\n",
    "-Summarize and refine exploratory data analysis, correlating and plotting data\n",
    "\n",
    "ANALYSIS PLAN/APPROACH\n",
    "-describe your approach\n",
    "\n",
    "INITIAL FINDINGS\n",
    "-describe your results\n",
    "\n",
    "-documenting any successes, setbacks, and lessons learned along the way (roadblocks or surprises)\n",
    "\n",
    "-Run model (Train and test subset as needed)\n",
    "\n",
    "-Describe initial results and discuss how you intend to evaluate & tune\n",
    "\n",
    "-Write about your analysis as you tune the model for your capstone project and summarize your initial findings.\n",
    "\n",
    "-Include visual and statistical analysis in your progress report, so you can get feedback. \n",
    "\n"
   ]
  },
  {
   "cell_type": "code",
   "execution_count": null,
   "metadata": {
    "collapsed": true
   },
   "outputs": [],
   "source": []
  }
 ],
 "metadata": {
  "kernelspec": {
   "display_name": "Python 2",
   "language": "python",
   "name": "python2"
  },
  "language_info": {
   "codemirror_mode": {
    "name": "ipython",
    "version": 2
   },
   "file_extension": ".py",
   "mimetype": "text/x-python",
   "name": "python",
   "nbconvert_exporter": "python",
   "pygments_lexer": "ipython2",
   "version": "2.7.12"
  }
 },
 "nbformat": 4,
 "nbformat_minor": 0
}
