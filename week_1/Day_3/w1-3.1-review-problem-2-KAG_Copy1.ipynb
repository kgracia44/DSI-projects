{
 "cells": [
  {
   "cell_type": "markdown",
   "metadata": {},
   "source": [
    "Name: Kelly Gracia\n",
    "\n",
    "\n",
    "People you worked with (if any): Lydia Chen"
   ]
  },
  {
   "cell_type": "markdown",
   "metadata": {},
   "source": [
    "### Review Problem 2\n",
    "\n",
    "For this problem, you will be writing a function that operates on a dictionary and **optionally** a list of numbers.\n",
    "\n",
    "Write a function that:\n",
    "\n",
    "- Accepts a dictionary as its first argument. The values of the dictionary should be a list of numbers.\n",
    "- Accepts an optional **keyword argument** that is a list. The default should be an empty list. **The optional keyword list should be called remainder**\n",
    "- **If the list is empty:** append a 2 to the list.\n",
    "- Print the dictionary as well as the optional list.\n",
    "- Iterate though they key:value pairs in the dictionary:\n",
    "    - For each value list of numbers, calculate the **remainder of each number** for **each number in the remainder list**\n",
    "    - Create a dictionary where they keys are the numbers in the value list, and the values are the remainders of that number from the remainder list.\n",
    "    - ex: if value ```list == [10,9]``` and ```remainder == [2,3]```, the new dictionary would be: ```{10:[0, 1], 9:[1, 0]}```\n",
    "    - For the current key in the dictionary entered into the function, change the value to the new remainder dictionary.\n",
    "- Print out the new dictionary.\n",
    "- Return the dictionary.\n",
    "\n",
    "Notes/Hints:\n",
    "\n",
    "- keyword arguments are specified in functions like so: \n",
    "    ```python\n",
    "    def example_function(arg1, kwarg1=default_value):\n",
    "    ```\n",
    "- The operator for finding the remainder of two values is: ```%```\n",
    "    ```python\n",
    "    14 % 5 == 4\n",
    "    ```"
   ]
  },
  {
   "cell_type": "code",
   "execution_count": 34,
   "metadata": {
    "collapsed": false
   },
   "outputs": [
    {
     "name": "stdout",
     "output_type": "stream",
     "text": [
      "{'A': [1, 2, 3, 4, 5], 'C': [10, 25.5, 50.9, 101], 'B': [12.1, 14.2, 20.3, 25.4]}\n",
      "[2, 3, 4, 5]\n",
      "{25.5: [1.5, 1.5, 1.5, 0.5], 1: [1, 1, 1, 1], 2: [0, 2, 2, 2], 3: [1, 0, 3, 3], 4: [0, 1, 0, 4], 5: [1, 2, 1, 0], 50.9: [0.8999999999999986, 2.8999999999999986, 2.8999999999999986, 0.8999999999999986], 10: [0, 1, 2, 0], 12.1: [0.09999999999999964, 0.09999999999999964, 0.09999999999999964, 2.0999999999999996], 20.3: [0.3000000000000007, 2.3000000000000007, 0.3000000000000007, 0.3000000000000007], 25.4: [1.3999999999999986, 1.3999999999999986, 1.3999999999999986, 0.3999999999999986], 14.2: [0.1999999999999993, 2.1999999999999993, 2.1999999999999993, 4.199999999999999], 101: [1, 2, 1, 1]}\n",
      "{'A': [1, 2, 3, 4, 5], 'C': [10, 25.5, 50.9, 101], 'B': [12.1, 14.2, 20.3, 25.4]}\n",
      "[2]\n",
      "{25.5: [1.5], 1: [1], 2: [0], 3: [1], 4: [0], 5: [1], 50.9: [0.8999999999999986], 10: [0], 12.1: [0.09999999999999964], 20.3: [0.3000000000000007], 25.4: [1.3999999999999986], 14.2: [0.1999999999999993], 101: [1]}\n"
     ]
    },
    {
     "data": {
      "text/plain": [
       "{1: [1],\n",
       " 2: [0],\n",
       " 3: [1],\n",
       " 4: [0],\n",
       " 5: [1],\n",
       " 10: [0],\n",
       " 12.1: [0.09999999999999964],\n",
       " 14.2: [0.1999999999999993],\n",
       " 20.3: [0.3000000000000007],\n",
       " 25.4: [1.3999999999999986],\n",
       " 25.5: [1.5],\n",
       " 50.9: [0.8999999999999986],\n",
       " 101: [1]}"
      ]
     },
     "execution_count": 34,
     "metadata": {},
     "output_type": "execute_result"
    }
   ],
   "source": [
    "test_dict = {'A':[1,2,3,4,5], 'B':[12.1, 14.2, 20.3, 25.4], 'C':[10, 25.5, 50.9, 101]}\n",
    "optional_remainder = [2,3,4,5]\n",
    "\n",
    "def example_function(specified_dict, remainder=[]):\n",
    "    if len(remainder) == 0:\n",
    "        remainder.append(2)\n",
    "    \n",
    "    print specified_dict\n",
    "    print remainder\n",
    "    \n",
    "    new_dict = {}\n",
    "    \n",
    "    for orig_key, orig_value in specified_dict.items():\n",
    "        for numerator in orig_value:\n",
    "            remainders_for_numerator = []\n",
    "            for divisor in remainder:\n",
    "                remainders_for_numerator.append(numerator % divisor)            \n",
    "            new_dict.update({numerator:remainders_for_numerator})\n",
    "            \n",
    "    print new_dict\n",
    "    return new_dict    \n",
    "            \n",
    "example_function(test_dict)\n",
    "example_function(test_dict, optional_remainder)"
   ]
  },
  {
   "cell_type": "code",
   "execution_count": null,
   "metadata": {
    "collapsed": true
   },
   "outputs": [],
   "source": []
  }
 ],
 "metadata": {
  "kernelspec": {
   "display_name": "Python 2",
   "language": "python",
   "name": "python2"
  },
  "language_info": {
   "codemirror_mode": {
    "name": "ipython",
    "version": 2
   },
   "file_extension": ".py",
   "mimetype": "text/x-python",
   "name": "python",
   "nbconvert_exporter": "python",
   "pygments_lexer": "ipython2",
   "version": "2.7.11"
  }
 },
 "nbformat": 4,
 "nbformat_minor": 0
}
